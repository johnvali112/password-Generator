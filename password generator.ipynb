{
 "cells": [
  {
   "cell_type": "code",
   "execution_count": 7,
   "id": "ebfcfdca",
   "metadata": {},
   "outputs": [
    {
     "name": "stdout",
     "output_type": "stream",
     "text": [
      "welcome to JOHNVALI password generator private limited\n",
      "enter numbers of letters you want in your password:\n",
      "4\n",
      "enter numbers of numbers you want in your password:\n",
      "3\n",
      "enter numbers of symbols you want in your password:\n",
      "2\n",
      "['X', 'Y', 'Z', 'F', 'd', '2', '2', '0', '@', '!']\n",
      "['!', '@', 'X', '2', 'F', 'Y', '2', '0', 'Z', 'd']\n",
      "password generated = !@X2FY20Zd\n"
     ]
    }
   ],
   "source": [
    "import random\n",
    "letters=['a','b','c', 'd','e','f', 'g',' h', 'i',' j',' k' ,'l','m','n',' o','p','q', 'r','s','t','u','v','w','x','y','z',\n",
    "        'A', 'B','C','D','E','F','G','H','I','J','K','L','M','N','O','P','Q','R','S','T','U','V','W','X''Y','Z']\n",
    "numbers=['0','1','2','3','4','5','6','7','8','9']\n",
    "symbols=['!','@','#','$','%','^','&']\n",
    "print(\"welcome to JOHNVALI password generator private limited\")\n",
    "n_letters=int(input(\"enter numbers of letters you want in your password:\\n\"))\n",
    "n_numbers=int(input(\"enter numbers of numbers you want in your password:\\n\"))\n",
    "n_symbols=int(input(\"enter numbers of symbols you want in your password:\\n\"))\n",
    "password_list=[]\n",
    "for i in range(1,n_letters+1):\n",
    "    char=random.choice(letters)\n",
    "    password_list+=char\n",
    "for i in range(1,n_numbers+1):\n",
    "    char=random.choice(numbers)\n",
    "    password_list+=char\n",
    "for i in range(1,n_symbols+1):\n",
    "    char=random.choice(symbols)\n",
    "    password_list+=char\n",
    "print(password_list)\n",
    "random.shuffle(password_list)\n",
    "print(password_list)\n",
    "password=\"\"\n",
    "for char in password_list:\n",
    "    password+=char\n",
    "print(\"password generated =\",password)"
   ]
  },
  {
   "cell_type": "code",
   "execution_count": null,
   "id": "55ab88e2",
   "metadata": {},
   "outputs": [],
   "source": []
  }
 ],
 "metadata": {
  "kernelspec": {
   "display_name": "Python 3 (ipykernel)",
   "language": "python",
   "name": "python3"
  },
  "language_info": {
   "codemirror_mode": {
    "name": "ipython",
    "version": 3
   },
   "file_extension": ".py",
   "mimetype": "text/x-python",
   "name": "python",
   "nbconvert_exporter": "python",
   "pygments_lexer": "ipython3",
   "version": "3.11.3"
  }
 },
 "nbformat": 4,
 "nbformat_minor": 5
}
